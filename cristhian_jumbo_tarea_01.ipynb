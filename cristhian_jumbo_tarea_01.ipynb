{
  "nbformat": 4,
  "nbformat_minor": 0,
  "metadata": {
    "kernelspec": {
      "display_name": "Python 3",
      "language": "python",
      "name": "python3"
    },
    "language_info": {
      "codemirror_mode": {
        "name": "ipython",
        "version": 3
      },
      "file_extension": ".py",
      "mimetype": "text/x-python",
      "name": "python",
      "nbconvert_exporter": "python",
      "pygments_lexer": "ipython3",
      "version": "3.8.5"
    },
    "colab": {
      "name": "cristhian-jumbo-tarea-01",
      "provenance": [],
      "collapsed_sections": []
    }
  },
  "cells": [
    {
      "cell_type": "markdown",
      "metadata": {
        "id": "xH3ALnUj_-ng"
      },
      "source": [
        "## Implementación de la regresión lineal simple\n",
        "### Nombre: Cristhian Jumbo\n",
        "### Modelos y Simulación\n",
        "\n",
        "\n"
      ]
    },
    {
      "cell_type": "code",
      "metadata": {
        "id": "LlFVbwcN_-nn"
      },
      "source": [
        "import numpy as np\n",
        "import matplotlib.pyplot as plt"
      ],
      "execution_count": 46,
      "outputs": []
    },
    {
      "cell_type": "markdown",
      "metadata": {
        "id": "hTBZFYoQOGSj"
      },
      "source": [
        "![image.png](data:image/png;base64,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)"
      ]
    },
    {
      "cell_type": "code",
      "metadata": {
        "colab": {
          "base_uri": "https://localhost:8080/"
        },
        "id": "TmoAxJ-fCKsG",
        "outputId": "2b0bcb18-2654-418c-d5d0-eea0d4147df1"
      },
      "source": [
        "x = []\n",
        "y = []\n",
        "# Lectura de los puntos del archivo TXT\n",
        "with open('data.txt') as f:\n",
        "    for index, line in enumerate(f, start=1):\n",
        "        a, b = line.split()\n",
        "        x.append(int(a))\n",
        "        y.append(int(b))\n",
        "print(x)\n",
        "print(y)        "
      ],
      "execution_count": 45,
      "outputs": [
        {
          "output_type": "stream",
          "name": "stdout",
          "text": [
            "[2, 4, 6, 8]\n",
            "[2, 11, 28, 40]\n"
          ]
        }
      ]
    },
    {
      "cell_type": "markdown",
      "metadata": {
        "id": "zyaPCRDR_-nr"
      },
      "source": [
        "### Implementamos formula (MCO): $\\beta = (X^{T}X)^{-1}X^{T}Y$"
      ]
    },
    {
      "cell_type": "code",
      "metadata": {
        "colab": {
          "base_uri": "https://localhost:8080/",
          "height": 265
        },
        "id": "DTgGYh9K_-ns",
        "outputId": "e97575d0-074a-4990-f39d-cc5dae2ee5b8"
      },
      "source": [
        "# Convertimo nuestros lista del txt a np arrays\n",
        "X = np.array(x)\n",
        "Y = np.array(y)\n",
        "\n",
        "# Definicón de grafica\n",
        "plt.scatter(X ,Y, alpha = 0.2)\n",
        "#  IMPORTANTE declaración del numero de puntos\n",
        "puntos = 4\n",
        "\n",
        "# Añadimos columna de 1s para el termino independiente\n",
        "X = np.array([np.ones(puntos) ,X]).T\n",
        "\n",
        "#Implementación de minimos cuadrados ordinarios (minimo cuadrado ordinario)\n",
        "B = np.linalg.inv(X.T@X)@X.T@Y\n",
        "\n",
        "#linea de regresion grafica\n",
        "plt.plot([4, 9], [B[0] + B[1] * 4, B[0] + B[1] * 9], c = \"red\", alpha = 0.8)\n",
        "\n",
        "plt.show()"
      ],
      "execution_count": 44,
      "outputs": [
        {
          "output_type": "display_data",
          "data": {
            "image/png": "[encoded data removed]",
            "text/plain": [
              "<Figure size 432x288 with 1 Axes>"
            ]
          },
          "metadata": {
            "needs_background": "light"
          }
        }
      ]
    },
    {
      "cell_type": "code",
      "metadata": {
        "colab": {
          "base_uri": "https://localhost:8080/"
        },
        "id": "EcABxLWe_-ns",
        "outputId": "b4e43f4b-41e0-4ec9-f669-7b8aef776ebd"
      },
      "source": [
        "# Varabiles x & y ax+b optimo |\n",
        "B"
      ],
      "execution_count": 43,
      "outputs": [
        {
          "output_type": "execute_result",
          "data": {
            "text/plain": [
              "array([-12.5 ,   6.55])"
            ]
          },
          "metadata": {},
          "execution_count": 43
        }
      ]
    }
  ]
}